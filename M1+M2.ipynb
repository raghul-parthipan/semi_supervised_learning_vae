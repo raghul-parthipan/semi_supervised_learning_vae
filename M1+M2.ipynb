{
 "cells": [
  {
   "cell_type": "code",
   "execution_count": 1,
   "metadata": {},
   "outputs": [],
   "source": [
    "import sys\n",
    "assert sys.version_info >= (3, 5)\n",
    "\n",
    "import tensorflow as tf\n",
    "from tensorflow import keras\n",
    "assert tf.__version__ >= \"2.0\"\n",
    "\n",
    "import numpy as np\n",
    "import time"
   ]
  },
  {
   "cell_type": "code",
   "execution_count": 2,
   "metadata": {},
   "outputs": [],
   "source": [
    "import os\n",
    "\n",
    "os.environ[\"CUDA_DEVICE_ORDER\"]=\"PCI_BUS_ID\"   \n",
    "os.environ[\"CUDA_VISIBLE_DEVICES\"]=\"1\"\n",
    "\n",
    "#check os.environ ld_library_path is the same here as when I do it in python via terminal, if I get issues\n",
    "\n",
    "#sometimes I can't select the GPU. In this case, try: https://forums.fast.ai/t/tip-limiting-tensorflow-to-one-gpu/1995"
   ]
  },
  {
   "cell_type": "code",
   "execution_count": 3,
   "metadata": {},
   "outputs": [],
   "source": [
    "K = keras.backend\n",
    "\n",
    "\n",
    "mnist = keras.datasets.mnist\n",
    "(X_train_full, y_train_full), (X_test,y_test) = mnist.load_data()\n",
    "\n",
    "X_valid, X_train = X_train_full[:5000] / 255.0, X_train_full[5000:] / 255.0\n",
    "\n",
    "y_valid, y_train = y_train_full[:5000], y_train_full[5000:]\n",
    "\n",
    "X_test = X_test / 255.0\n",
    "\n",
    "#1000 labelled points in train set for this example\n",
    "\n",
    "X_train_la = X_train[:1000]\n",
    "X_train_un = X_train[1000:]\n",
    "\n",
    "y_train_la = y_train[:1000]\n",
    "y_train_un = np.empty((X_train_la.shape[0]))\n",
    "\n",
    "\n",
    "y_train_la = y_train_la.reshape(-1,1)\n",
    "\n",
    "from sklearn.preprocessing import OneHotEncoder\n",
    "encoder = OneHotEncoder()\n",
    "y_train_la = encoder.fit_transform(y_train_la)\n",
    "\n",
    "y_train_la=y_train_la.toarray()\n",
    "\n",
    "y_valid = y_valid.reshape(-1,1)\n",
    "y_valid = encoder.transform(y_valid)\n",
    "y_valid = y_valid.toarray()"
   ]
  },
  {
   "cell_type": "code",
   "execution_count": 7,
   "metadata": {},
   "outputs": [],
   "source": [
    "#yes this cell is very similar to the above. It's just so I could get a non-one hot encoded y for the SVM task. Probably\n",
    "#should clean this up!\n",
    "\n",
    "(X_train_full, y_train_full), (X_test,y_test2) = mnist.load_data()\n",
    "\n",
    "y_valid2, y_train2 = y_train_full[:5000], y_train_full[5000:]\n",
    "\n",
    "\n",
    "#1000 labelled points in train set for this example\n",
    "\n",
    "\n",
    "y_train_la2 = y_train2[:1000]\n",
    "\n",
    "\n",
    "y_train_la2 = y_train_la2.reshape(-1,1)"
   ]
  },
  {
   "cell_type": "markdown",
   "metadata": {},
   "source": [
    "# M1 # "
   ]
  },
  {
   "cell_type": "code",
   "execution_count": 4,
   "metadata": {},
   "outputs": [],
   "source": [
    "#encoder\n",
    "\n",
    "tf.random.set_seed(42)\n",
    "np.random.seed(42)\n",
    "\n",
    "class Sampling_M1(keras.layers.Layer):\n",
    "    def call(self, inputs):\n",
    "        mean, log_var = inputs\n",
    "        return K.random_normal(tf.shape(log_var)) * K.exp(log_var/2) + mean\n",
    "\n",
    "codings_size_M1 = 50\n",
    "\n",
    "inputs_M1 = keras.layers.Input(shape=[28, 28])\n",
    "z_M1 = keras.layers.Flatten()(inputs_M1)\n",
    "z_M1 = keras.layers.Dense(600, activation=\"softplus\")(z_M1)\n",
    "z_M1 = keras.layers.Dense(300, activation=\"softplus\")(z_M1)\n",
    "codings_mean_M1 = keras.layers.Dense(codings_size_M1)(z_M1)\n",
    "codings_log_var_M1 = keras.layers.Dense(codings_size_M1)(z_M1)\n",
    "codings_M1 = Sampling_M1()([codings_mean_M1, codings_log_var_M1])\n",
    "variational_encoder_M1 = keras.models.Model(\n",
    "    inputs=[inputs_M1], outputs=[codings_mean_M1, codings_log_var_M1, codings_M1])\n",
    "\n",
    "\n",
    "#decoder\n",
    "decoder_inputs_M1 = keras.layers.Input(shape=[codings_size_M1])\n",
    "x_M1 = keras.layers.Dense(300, activation=\"softplus\")(decoder_inputs_M1)\n",
    "x_M1 = keras.layers.Dense(600, activation=\"softplus\")(x_M1)\n",
    "x_M1= keras.layers.Dense(28 * 28, activation=\"sigmoid\")(x_M1)\n",
    "outputs_M1 = keras.layers.Reshape([28, 28])(x_M1)\n",
    "variational_decoder_M1 = keras.models.Model(inputs=[decoder_inputs_M1], outputs=[outputs_M1])\n",
    "\n",
    "#vae\n",
    "_, _, codings_M1 = variational_encoder_M1(inputs_M1)\n",
    "reconstructions_M1 = variational_decoder_M1(codings_M1)\n",
    "variational_ae_M1 = keras.models.Model(inputs=[inputs_M1], outputs=[reconstructions_M1])\n",
    "\n",
    "beta = 1\n",
    "latent_loss_M1 = beta*-0.5 * K.sum(\n",
    "    1 + codings_log_var_M1 - K.exp(codings_log_var_M1) - K.square(codings_mean_M1),\n",
    "    axis=-1)\n",
    "variational_ae_M1.add_loss(K.mean(latent_loss_M1) / 784)\n",
    "#question on how loss is computed too..\n",
    "variational_ae_M1.compile(loss=\"binary_crossentropy\", optimizer=\"rmsprop\")\n",
    "\n",
    "\n",
    "early_stopping_cb = keras.callbacks.EarlyStopping(patience=10,restore_best_weights=True)\n",
    "\n"
   ]
  },
  {
   "cell_type": "code",
   "execution_count": 5,
   "metadata": {},
   "outputs": [
    {
     "name": "stdout",
     "output_type": "stream",
     "text": [
      "Train on 55000 samples, validate on 5000 samples\n",
      "Epoch 1/100\n",
      "55000/55000 [==============================] - 4s 76us/sample - loss: 0.2265 - val_loss: 0.1895\n",
      "Epoch 2/100\n",
      "55000/55000 [==============================] - 3s 55us/sample - loss: 0.1784 - val_loss: 0.1702\n",
      "Epoch 3/100\n",
      "55000/55000 [==============================] - 3s 57us/sample - loss: 0.1621 - val_loss: 0.1585\n",
      "Epoch 4/100\n",
      "55000/55000 [==============================] - 3s 58us/sample - loss: 0.1542 - val_loss: 0.1529\n",
      "Epoch 5/100\n",
      "55000/55000 [==============================] - 3s 57us/sample - loss: 0.1491 - val_loss: 0.1463\n",
      "Epoch 6/100\n",
      "55000/55000 [==============================] - 3s 58us/sample - loss: 0.1457 - val_loss: 0.1454\n",
      "Epoch 7/100\n",
      "55000/55000 [==============================] - 3s 59us/sample - loss: 0.1430 - val_loss: 0.1442\n",
      "Epoch 8/100\n",
      "55000/55000 [==============================] - 3s 60us/sample - loss: 0.1409 - val_loss: 0.1417\n",
      "Epoch 9/100\n",
      "55000/55000 [==============================] - 3s 56us/sample - loss: 0.1395 - val_loss: 0.1389\n",
      "Epoch 10/100\n",
      "55000/55000 [==============================] - 3s 55us/sample - loss: 0.1386 - val_loss: 0.1384\n",
      "Epoch 11/100\n",
      "55000/55000 [==============================] - 3s 55us/sample - loss: 0.1378 - val_loss: 0.1380\n",
      "Epoch 12/100\n",
      "55000/55000 [==============================] - 3s 55us/sample - loss: 0.1372 - val_loss: 0.1376\n",
      "Epoch 13/100\n",
      "55000/55000 [==============================] - 3s 58us/sample - loss: 0.1365 - val_loss: 0.1376\n",
      "Epoch 14/100\n",
      "55000/55000 [==============================] - 3s 63us/sample - loss: 0.1361 - val_loss: 0.1391\n",
      "Epoch 15/100\n",
      "55000/55000 [==============================] - 3s 58us/sample - loss: 0.1357 - val_loss: 0.1363\n",
      "Epoch 16/100\n",
      "55000/55000 [==============================] - 3s 56us/sample - loss: 0.1353 - val_loss: 0.1363\n",
      "Epoch 17/100\n",
      "55000/55000 [==============================] - 3s 55us/sample - loss: 0.1349 - val_loss: 0.1353\n",
      "Epoch 18/100\n",
      "55000/55000 [==============================] - 3s 57us/sample - loss: 0.1345 - val_loss: 0.1368\n",
      "Epoch 19/100\n",
      "55000/55000 [==============================] - 3s 55us/sample - loss: 0.1343 - val_loss: 0.1350\n",
      "Epoch 20/100\n",
      "55000/55000 [==============================] - 3s 57us/sample - loss: 0.1340 - val_loss: 0.1358\n",
      "Epoch 21/100\n",
      "55000/55000 [==============================] - 3s 56us/sample - loss: 0.1338 - val_loss: 0.1350\n",
      "Epoch 22/100\n",
      "55000/55000 [==============================] - 3s 56us/sample - loss: 0.1336 - val_loss: 0.1349\n",
      "Epoch 23/100\n",
      "55000/55000 [==============================] - 3s 59us/sample - loss: 0.1333 - val_loss: 0.1347\n",
      "Epoch 24/100\n",
      "55000/55000 [==============================] - 3s 56us/sample - loss: 0.1332 - val_loss: 0.1358\n",
      "Epoch 25/100\n",
      "55000/55000 [==============================] - 3s 55us/sample - loss: 0.1330 - val_loss: 0.1351\n",
      "Epoch 26/100\n",
      "55000/55000 [==============================] - 3s 58us/sample - loss: 0.1329 - val_loss: 0.1340\n",
      "Epoch 27/100\n",
      "55000/55000 [==============================] - 3s 57us/sample - loss: 0.1327 - val_loss: 0.1348\n",
      "Epoch 28/100\n",
      "55000/55000 [==============================] - 3s 57us/sample - loss: 0.1326 - val_loss: 0.1339\n",
      "Epoch 29/100\n",
      "55000/55000 [==============================] - 3s 55us/sample - loss: 0.1325 - val_loss: 0.1346\n",
      "Epoch 30/100\n",
      "55000/55000 [==============================] - 3s 56us/sample - loss: 0.1324 - val_loss: 0.1347\n",
      "Epoch 31/100\n",
      "55000/55000 [==============================] - 3s 56us/sample - loss: 0.1323 - val_loss: 0.1342\n",
      "Epoch 32/100\n",
      "55000/55000 [==============================] - 3s 56us/sample - loss: 0.1322 - val_loss: 0.1344\n",
      "Epoch 33/100\n",
      "55000/55000 [==============================] - 3s 58us/sample - loss: 0.1321 - val_loss: 0.1340\n",
      "Epoch 34/100\n",
      "55000/55000 [==============================] - 3s 56us/sample - loss: 0.1321 - val_loss: 0.1344\n",
      "Epoch 35/100\n",
      "55000/55000 [==============================] - 3s 59us/sample - loss: 0.1320 - val_loss: 0.1349\n",
      "Epoch 36/100\n",
      "55000/55000 [==============================] - 3s 58us/sample - loss: 0.1320 - val_loss: 0.1347\n",
      "Epoch 37/100\n",
      "55000/55000 [==============================] - 3s 58us/sample - loss: 0.1319 - val_loss: 0.1338\n",
      "Epoch 38/100\n",
      "55000/55000 [==============================] - 3s 58us/sample - loss: 0.1319 - val_loss: 0.1343\n",
      "Epoch 39/100\n",
      "55000/55000 [==============================] - 3s 58us/sample - loss: 0.1318 - val_loss: 0.1339\n",
      "Epoch 40/100\n",
      "55000/55000 [==============================] - 3s 59us/sample - loss: 0.1319 - val_loss: 0.1345\n",
      "Epoch 41/100\n",
      "55000/55000 [==============================] - 3s 55us/sample - loss: 0.1319 - val_loss: 0.1338\n",
      "Epoch 42/100\n",
      "55000/55000 [==============================] - 3s 58us/sample - loss: 0.1319 - val_loss: 0.1343\n",
      "Epoch 43/100\n",
      "55000/55000 [==============================] - 3s 59us/sample - loss: 0.1318 - val_loss: 0.1343\n",
      "Epoch 44/100\n",
      "55000/55000 [==============================] - 3s 57us/sample - loss: 0.1319 - val_loss: 0.1355\n",
      "Epoch 45/100\n",
      "55000/55000 [==============================] - 3s 56us/sample - loss: 0.1319 - val_loss: 0.1333\n",
      "Epoch 46/100\n",
      "55000/55000 [==============================] - 3s 56us/sample - loss: 0.1319 - val_loss: 0.1337\n",
      "Epoch 47/100\n",
      "55000/55000 [==============================] - 3s 56us/sample - loss: 0.1319 - val_loss: 0.1342\n",
      "Epoch 48/100\n",
      "55000/55000 [==============================] - 3s 58us/sample - loss: 0.1319 - val_loss: 0.1337\n",
      "Epoch 49/100\n",
      "55000/55000 [==============================] - 3s 55us/sample - loss: 0.1319 - val_loss: 0.1355\n",
      "Epoch 50/100\n",
      "55000/55000 [==============================] - 3s 58us/sample - loss: 0.1320 - val_loss: 0.1334\n",
      "Epoch 51/100\n",
      "55000/55000 [==============================] - 3s 57us/sample - loss: 0.1321 - val_loss: 0.1359\n",
      "Epoch 52/100\n",
      "55000/55000 [==============================] - 3s 60us/sample - loss: 0.1321 - val_loss: 0.1342\n",
      "Epoch 53/100\n",
      "55000/55000 [==============================] - 3s 58us/sample - loss: 0.1321 - val_loss: 0.1364\n",
      "Epoch 54/100\n",
      "55000/55000 [==============================] - 3s 55us/sample - loss: 0.1322 - val_loss: 0.1356\n",
      "Epoch 55/100\n",
      "55000/55000 [==============================] - 3s 58us/sample - loss: 0.1323 - val_loss: 0.1343\n"
     ]
    }
   ],
   "source": [
    "history = variational_ae_M1.fit(X_train, X_train, epochs=100, batch_size=64,\n",
    "                             validation_data=(X_valid, X_valid),  callbacks=[early_stopping_cb])"
   ]
  },
  {
   "cell_type": "markdown",
   "metadata": {},
   "source": [
    "### Attempt to save the model ###"
   ]
  },
  {
   "cell_type": "code",
   "execution_count": 61,
   "metadata": {},
   "outputs": [],
   "source": [
    "config = variational_ae_M1.get_config()"
   ]
  },
  {
   "cell_type": "code",
   "execution_count": 62,
   "metadata": {},
   "outputs": [],
   "source": [
    "custom_objects = {\"Sampling_M1\":Sampling_M1}"
   ]
  },
  {
   "cell_type": "code",
   "execution_count": 63,
   "metadata": {},
   "outputs": [
    {
     "name": "stdout",
     "output_type": "stream",
     "text": [
      "WARNING:tensorflow:Found duplicated `Variable`s in Model's `weights`. This is usually caused by `Variable`s being shared by Layers in the Model. These `Variable`s will be treated as separate `Variable`s when the Model is restored. To avoid this, please save with `save_format=\"tf\"`.\n"
     ]
    }
   ],
   "source": [
    "variational_ae_M1.save(\"M1_model.h5\",save_format=\"tf\")"
   ]
  },
  {
   "cell_type": "code",
   "execution_count": 67,
   "metadata": {},
   "outputs": [
    {
     "name": "stdout",
     "output_type": "stream",
     "text": [
      "WARNING:tensorflow:Error in loading the saved optimizer state. As a result, your model is starting with a freshly initialized optimizer.\n"
     ]
    }
   ],
   "source": [
    "model_Vae = keras.models.load_model(\"M1_model.h5\",custom_objects=custom_objects)"
   ]
  },
  {
   "cell_type": "code",
   "execution_count": 47,
   "metadata": {},
   "outputs": [
    {
     "name": "stdout",
     "output_type": "stream",
     "text": [
      "WARNING:tensorflow:Found duplicated `Variable`s in Model's `weights`. This is usually caused by `Variable`s being shared by Layers in the Model. These `Variable`s will be treated as separate `Variable`s when the Model is restored. To avoid this, please save with `save_format=\"tf\"`.\n"
     ]
    }
   ],
   "source": [
    "variational_ae.save(\"M1_model.h5\",save_format=\"tf\") #doesn't work properly as need to deal with the sampling layer.\n",
    "#refer to geron textbook for how to do this"
   ]
  },
  {
   "cell_type": "code",
   "execution_count": 6,
   "metadata": {},
   "outputs": [
    {
     "name": "stdout",
     "output_type": "stream",
     "text": [
      "WARNING:tensorflow:Layer flatten is casting an input tensor from dtype float64 to the layer's dtype of float32, which is new behavior in TensorFlow 2.  The layer has dtype float32 because it's dtype defaults to floatx.\n",
      "\n",
      "If you intended to run this layer in float32, you can safely ignore this warning. If in doubt, this warning is likely only an issue if you are porting a TensorFlow 1.X model to TensorFlow 2.\n",
      "\n",
      "To change all layers to have dtype float64 by default, call `tf.keras.backend.set_floatx('float64')`. To change just this layer, pass dtype='float64' to the layer constructor. If you are the author of this layer, you can disable autocasting by passing autocast=False to the base Layer constructor.\n",
      "\n"
     ]
    }
   ],
   "source": [
    "#Generate the latent representations\n",
    "\n",
    "\n",
    "X_train_la_encoded,_,_ = variational_encoder_M1(X_train_la)\n",
    "X_train_la_encoded = X_train_la_encoded.numpy()\n",
    "\n",
    "X_train_un_encoded,_,_ = variational_encoder_M1(X_train_un)\n",
    "X_train_un_encoded = X_train_un_encoded.numpy()\n",
    "\n",
    "X_valid_encoded,_,_ = variational_encoder_M1(X_valid)\n",
    "X_valid_encoded = X_valid_encoded.numpy()\n",
    "\n",
    "X_test_encoded,_,_ = variational_encoder_M1(X_test)\n",
    "X_test_encoded = X_test_encoded.numpy()"
   ]
  },
  {
   "cell_type": "code",
   "execution_count": 11,
   "metadata": {},
   "outputs": [],
   "source": [
    "np.save(\"X_train_la_encoded.npy\",X_train_la_encoded)\n",
    "np.save(\"X_train_un_encoded.npy\",X_train_un_encoded)\n",
    "np.save(\"X_valid_encoded.npy\",X_valid_encoded)\n",
    "np.save(\"X_test_encoded.npy\",X_test_encoded)"
   ]
  },
  {
   "cell_type": "code",
   "execution_count": 390,
   "metadata": {},
   "outputs": [],
   "source": [
    "X_train_un_encoded = np.load(\"X_train_un_encoded.npy\")\n",
    "X_train_la_encoded = np.load(\"X_train_la_encoded.npy\")\n",
    "X_valid_encoded = np.load(\"X_valid_encoded.npy\")\n",
    "X_test_encoded = np.load(\"X_test_encoded.npy\")"
   ]
  },
  {
   "cell_type": "code",
   "execution_count": 51,
   "metadata": {},
   "outputs": [
    {
     "data": {
      "image/png": "[encoded data removed]",
      "text/plain": [
       "<Figure size 432x288 with 1 Axes>"
      ]
     },
     "metadata": {
      "needs_background": "light"
     },
     "output_type": "display_data"
    }
   ],
   "source": [
    "import seaborn\n",
    "import matplotlib.pyplot as plt\n",
    "\n",
    "seaborn.distplot(X_test_encoded)\n",
    "plt.show()"
   ]
  },
  {
   "cell_type": "code",
   "execution_count": 215,
   "metadata": {},
   "outputs": [
    {
     "data": {
      "image/png": "[encoded data removed]",
      "text/plain": [
       "<Figure size 432x288 with 1 Axes>"
      ]
     },
     "metadata": {
      "needs_background": "light"
     },
     "output_type": "display_data"
    }
   ],
   "source": [
    "seaborn.distplot(X_valid_encoded)\n",
    "plt.show()"
   ]
  },
  {
   "cell_type": "code",
   "execution_count": 12,
   "metadata": {},
   "outputs": [
    {
     "name": "stderr",
     "output_type": "stream",
     "text": [
      "/home/rp542/venv/lib/python3.5/site-packages/sklearn/utils/validation.py:760: DataConversionWarning: A column-vector y was passed when a 1d array was expected. Please change the shape of y to (n_samples, ), for example using ravel().\n",
      "  y = column_or_1d(y, warn=True)\n"
     ]
    },
    {
     "data": {
      "text/plain": [
       "0.979"
      ]
     },
     "execution_count": 12,
     "metadata": {},
     "output_type": "execute_result"
    }
   ],
   "source": [
    "from sklearn.svm import SVC\n",
    "\n",
    "svc_class = SVC(kernel=\"rbf\", gamma='scale', random_state=42)\n",
    "svc_class.fit(X_train_la_encoded_scaled, y_train_la2)\n",
    "svc_class.score(X_train_la_encoded_scaled, y_train_la2)\n"
   ]
  },
  {
   "cell_type": "code",
   "execution_count": 13,
   "metadata": {},
   "outputs": [
    {
     "data": {
      "text/plain": [
       "0.925"
      ]
     },
     "execution_count": 13,
     "metadata": {},
     "output_type": "execute_result"
    }
   ],
   "source": [
    "svc_class.score(X_test_encoded_scaled, y_test2)\n"
   ]
  },
  {
   "cell_type": "code",
   "execution_count": 14,
   "metadata": {},
   "outputs": [
    {
     "data": {
      "text/plain": [
       "0.9312"
      ]
     },
     "execution_count": 14,
     "metadata": {},
     "output_type": "execute_result"
    }
   ],
   "source": [
    "svc_class.score(X_valid_encoded_scaled, y_valid2)\n"
   ]
  },
  {
   "cell_type": "markdown",
   "metadata": {},
   "source": [
    "I've got a useful latent rep in terms of doing classification. Great. Hopefully this results in good scores downstream in M2."
   ]
  },
  {
   "cell_type": "markdown",
   "metadata": {},
   "source": [
    "### Processing ###"
   ]
  },
  {
   "cell_type": "code",
   "execution_count": 8,
   "metadata": {},
   "outputs": [],
   "source": [
    "from sklearn.preprocessing import StandardScaler\n",
    "\n",
    "scaler = StandardScaler()\n",
    "\n",
    "X_train_un_encoded_scaled = scaler.fit_transform(X_train_un_encoded)"
   ]
  },
  {
   "cell_type": "code",
   "execution_count": 9,
   "metadata": {},
   "outputs": [],
   "source": [
    "X_train_la_encoded_scaled = scaler.transform(X_train_la_encoded)\n",
    "X_valid_encoded_scaled = scaler.transform(X_valid_encoded)\n",
    "X_test_encoded_scaled = scaler.transform(X_test_encoded)"
   ]
  },
  {
   "cell_type": "code",
   "execution_count": 10,
   "metadata": {},
   "outputs": [],
   "source": [
    "from sklearn.preprocessing import MinMaxScaler\n",
    "\n",
    "scaler2= MinMaxScaler()\n",
    "\n",
    "X_train_un_encoded_scaled = scaler2.fit_transform(X_train_un_encoded)"
   ]
  },
  {
   "cell_type": "code",
   "execution_count": 11,
   "metadata": {},
   "outputs": [],
   "source": [
    "X_train_la_encoded_scaled = scaler2.transform(X_train_la_encoded)\n",
    "X_valid_encoded_scaled = scaler2.transform(X_valid_encoded)\n",
    "X_test_encoded_scaled = scaler2.transform(X_test_encoded)"
   ]
  },
  {
   "cell_type": "code",
   "execution_count": 111,
   "metadata": {},
   "outputs": [
    {
     "data": {
      "image/png": "[encoded data removed]",
      "text/plain": [
       "<Figure size 432x288 with 1 Axes>"
      ]
     },
     "metadata": {
      "needs_background": "light"
     },
     "output_type": "display_data"
    }
   ],
   "source": [
    "seaborn.distplot(X_test_encoded_scaled)\n",
    "plt.show()"
   ]
  },
  {
   "cell_type": "markdown",
   "metadata": {},
   "source": [
    "# M2 # "
   ]
  },
  {
   "cell_type": "markdown",
   "metadata": {},
   "source": [
    "## Encoder ##"
   ]
  },
  {
   "cell_type": "code",
   "execution_count": 15,
   "metadata": {},
   "outputs": [],
   "source": [
    "#need to set input and output shapes depending on x and y shapes\n",
    "x_input_shape = 50\n",
    "\n",
    "tf.random.set_seed(42)\n",
    "np.random.seed(42)\n",
    "\n",
    "#reparameterization trick\n",
    "class Sampling(keras.layers.Layer):\n",
    "    def call(self, inputs):\n",
    "        mean, log_var = inputs\n",
    "        return K.random_normal(tf.shape(log_var)) * K.exp(log_var/2) + mean\n",
    "\n",
    "codings_size = 50\n",
    "\n",
    "x_in = keras.layers.Input(shape=[50])\n",
    "f = keras.layers.Flatten()(x_in)\n",
    "z = keras.layers.Dense(300, activation=\"softplus\")(f)\n",
    "z = keras.layers.Dense(300, activation=\"softplus\")(z)\n",
    "\n",
    "#z = keras.layers.Dropout(0.2)(z)\n",
    "\n",
    "codings_mean = keras.layers.Dense(codings_size)(z)\n",
    "codings_log_var = keras.layers.Dense(codings_size)(z)\n",
    "codings = Sampling()([codings_mean, codings_log_var])\n",
    "\n",
    " \n",
    "\n",
    "variational_encoder = keras.models.Model(\n",
    "    inputs=[x_in], outputs=[codings_mean, codings_log_var, codings])"
   ]
  },
  {
   "cell_type": "markdown",
   "metadata": {},
   "source": [
    "## Classifier ##"
   ]
  },
  {
   "cell_type": "code",
   "execution_count": 16,
   "metadata": {},
   "outputs": [],
   "source": [
    "y_classifier = keras.layers.Dense(300, activation=\"elu\")(f)\n",
    "\n",
    "#y_classifier = keras.layers.Dropout(0.2)(y_classifier)\n",
    "y_pred = keras.layers.Dense(10,activation=\"softmax\")(y_classifier) \n",
    "\n",
    "classifier = keras.models.Model(\n",
    "    inputs=[x_in], outputs=[y_pred])"
   ]
  },
  {
   "cell_type": "markdown",
   "metadata": {},
   "source": [
    "\n",
    "## Decoder ##"
   ]
  },
  {
   "cell_type": "code",
   "execution_count": 17,
   "metadata": {},
   "outputs": [],
   "source": [
    "def x_activation(value):\n",
    "    return 6*tf.keras.activations.tanh(value)\n",
    "\n",
    "latent = keras.layers.Input(shape=[codings_size])\n",
    "y = keras.layers.Input(shape=[10])\n",
    "\n",
    "l_merged = keras.layers.concatenate([latent,y])\n",
    "x = keras.layers.Dense(300, activation=\"softplus\")(l_merged)\n",
    "x = keras.layers.Dense(300, activation=\"softplus\")(x)\n",
    "\n",
    "#x = keras.layers.Dropout(0.2)(x)\n",
    "x = keras.layers.Dense(50,activation=\"sigmoid\")(x)\n",
    "x_out = keras.layers.Reshape([50])(x)\n",
    "\n",
    "\n",
    "variational_decoder = keras.models.Model(inputs=[latent,y], outputs=[x_out])"
   ]
  },
  {
   "cell_type": "markdown",
   "metadata": {},
   "source": [
    "## Compile model ##"
   ]
  },
  {
   "cell_type": "code",
   "execution_count": 18,
   "metadata": {},
   "outputs": [],
   "source": [
    "#labelled vae\n",
    "_,_, codings = variational_encoder(x_in)\n",
    "y_pred = classifier(x_in)\n",
    "reconstructions = variational_decoder([codings,y])\n",
    "label_vae = keras.models.Model(inputs=(x_in,y), outputs=(reconstructions,y_pred))"
   ]
  },
  {
   "cell_type": "code",
   "execution_count": 19,
   "metadata": {},
   "outputs": [],
   "source": [
    "#unlabelled vae\n",
    "_,_, codings = variational_encoder(x_in)\n",
    "y_pred = classifier(x_in)\n",
    "reconstructions_un = variational_decoder([codings,y_pred])\n",
    "unlabel_vae = keras.models.Model(inputs=x_in, outputs=reconstructions_un)"
   ]
  },
  {
   "cell_type": "code",
   "execution_count": 20,
   "metadata": {},
   "outputs": [],
   "source": [
    "def labelled_loss_reconstruction(codings_log_var,codings_mean):\n",
    "    def loss_functions_labelled(x, x_decoded_mean):\n",
    "        x = K.reshape(x,[-1,50])\n",
    "        x_decoded_mean = K.reshape(x_decoded_mean,[-1,50])\n",
    "        xent_loss = 50*keras.losses.binary_crossentropy(x, x_decoded_mean)        \n",
    "        kl_loss = - 0.5 * K.sum(1 + codings_log_var - K.square(codings_mean) - K.exp(codings_log_var), axis=-1)\n",
    "        return K.mean(xent_loss + kl_loss)\n",
    "    return loss_functions_labelled \n",
    "\n",
    "def unlabelled_loss_reconstruction(codings_log_var,codings_mean,y_pred):\n",
    "    def loss_functions_unlabelled(x,x_decoded_mean):\n",
    "        x = K.reshape(x,[-1,50])\n",
    "        x_decoded_mean = K.reshape(x_decoded_mean,[-1,50])\n",
    "        kl_loss = - 0.5 * K.sum(1 + codings_log_var - K.square(codings_mean) - K.exp(codings_log_var), axis=-1)\n",
    "        xent_loss = 50*keras.losses.binary_crossentropy(x, x_decoded_mean)        \n",
    "        entropy = keras.losses.categorical_crossentropy(y_pred,y_pred)\n",
    "        loss = K.mean(kl_loss + xent_loss)\n",
    "        #need to check below. We are summing over y, but we are assuming that the loss term is independent of y\n",
    "        #which is not the case. How to do it though? https://github.com/bjlkeng/sandbox/issues/3\n",
    "        #and how to do it for regression?\n",
    "        return K.mean(K.sum(y_pred*loss,axis=-1)) + K.mean(entropy)\n",
    "    return loss_functions_unlabelled\n",
    "\n",
    "def labelled_cls_loss(y, y_pred,N=1000):\n",
    "    alpha = 0.1*N\n",
    "    cat_xent_loss = keras.losses.categorical_crossentropy(y, y_pred)\n",
    "    return alpha*K.mean(cat_xent_loss)"
   ]
  },
  {
   "cell_type": "code",
   "execution_count": 21,
   "metadata": {},
   "outputs": [],
   "source": [
    "optimizer_adam = keras.optimizers.Adam(learning_rate=0.0001)"
   ]
  },
  {
   "cell_type": "code",
   "execution_count": 22,
   "metadata": {},
   "outputs": [],
   "source": [
    "label_vae.compile(loss=[labelled_loss_reconstruction(codings_log_var,codings_mean)\n",
    "                        ,labelled_cls_loss], optimizer=optimizer_adam, experimental_run_tf_function=False)\n",
    "\n",
    "unlabel_vae.compile(loss=unlabelled_loss_reconstruction(codings_log_var,codings_mean,y_pred),\n",
    "                    optimizer=optimizer_adam, experimental_run_tf_function=False)"
   ]
  },
  {
   "cell_type": "code",
   "execution_count": 18,
   "metadata": {},
   "outputs": [
    {
     "name": "stdout",
     "output_type": "stream",
     "text": [
      "Model: \"model_8\"\n",
      "__________________________________________________________________________________________________\n",
      "Layer (type)                    Output Shape         Param #     Connected to                     \n",
      "==================================================================================================\n",
      "input_5 (InputLayer)            [(None, 50)]         0                                            \n",
      "__________________________________________________________________________________________________\n",
      "model_5 (Model)                 [(None, 50), (None,  241000      input_5[0][0]                    \n",
      "__________________________________________________________________________________________________\n",
      "input_7 (InputLayer)            [(None, 10)]         0                                            \n",
      "__________________________________________________________________________________________________\n",
      "model_7 (Model)                 (None, 50)           228950      model_5[1][2]                    \n",
      "                                                                 input_7[0][0]                    \n",
      "__________________________________________________________________________________________________\n",
      "model_6 (Model)                 (None, 10)           46410       input_5[0][0]                    \n",
      "==================================================================================================\n",
      "Total params: 516,360\n",
      "Trainable params: 516,360\n",
      "Non-trainable params: 0\n",
      "__________________________________________________________________________________________________\n"
     ]
    }
   ],
   "source": [
    "label_vae.summary()"
   ]
  },
  {
   "cell_type": "code",
   "execution_count": null,
   "metadata": {},
   "outputs": [],
   "source": [
    "#for debugging\n",
    "\n",
    "history = label_vae.fit(\n",
    "    [X_train_la_encoded_scaled,y_train_la], [X_train_la_encoded_scaled,y_train_la], epochs=1, #batch_size=128,\n",
    "    validation_data=([X_valid_encoded_scaled,y_valid], [X_valid_encoded_scaled,y_valid])\n",
    ")\n"
   ]
  },
  {
   "cell_type": "code",
   "execution_count": null,
   "metadata": {},
   "outputs": [],
   "source": [
    "\n",
    "#for debugging\n",
    "\n",
    "history = unlabel_vae.fit(\n",
    "    [X_train_un_encoded], [X_train_un_encoded], epochs=1, #batch_size=128,\n",
    "    validation_data=([X_valid_encoded], [X_valid_encoded])\n",
    ")"
   ]
  },
  {
   "cell_type": "markdown",
   "metadata": {},
   "source": [
    "## Create batches ##"
   ]
  },
  {
   "cell_type": "code",
   "execution_count": 28,
   "metadata": {},
   "outputs": [],
   "source": [
    "#omer method - just picks things at random so each epoch may not necessarily go through every single point.\n",
    "#but easier implementation for now\n",
    "\n",
    "def create_batch(x_label, y_label, x_unlabel, batch_s=64):\n",
    "    '''\n",
    "    Creates batches of labelled and unlabelled data. The total number of points in both batches is equal to batch_s. \n",
    "    \n",
    "    '''\n",
    "    proportion_labelled = x_label.shape[0]/(x_label.shape[0] + x_unlabel.shape[0])\n",
    "    \n",
    "    shape_label = x_label.shape[0]\n",
    "    label_per_batch = int(np.ceil(proportion_labelled*batch_s))\n",
    "    batch_idx_la = np.random.choice(list(range(shape_label)), label_per_batch)\n",
    "    batch_x_la = (x_label[batch_idx_la, :])\n",
    "    batch_y_la = (y_label[batch_idx_la])\n",
    "    \n",
    "    shape_unlabel = x_unlabel.shape[0]\n",
    "    unlabel_per_batch = batch_s - label_per_batch\n",
    "    batch_idx_un = np.random.choice(list(range(shape_unlabel)), unlabel_per_batch)\n",
    "    batch_x_un = (x_unlabel[batch_idx_un, :])\n",
    "    \n",
    "    del batch_idx_la,batch_idx_un\n",
    "            \n",
    "    return batch_x_la, batch_y_la, batch_x_un"
   ]
  },
  {
   "cell_type": "markdown",
   "metadata": {},
   "source": [
    "## Train ##"
   ]
  },
  {
   "cell_type": "code",
   "execution_count": 23,
   "metadata": {},
   "outputs": [],
   "source": [
    "def progress_bar(iteration, total, size=30):\n",
    "    running = iteration < total\n",
    "    c = \">\" if running else \"=\"\n",
    "    p = (size - 1) * iteration // total\n",
    "    fmt = \"{{:-{}d}}/{{}} [{{}}]\".format(len(str(total)))\n",
    "    params = [iteration, total, \"=\" * p + c + \".\" * (size - p - 1)]\n",
    "    return fmt.format(*params)\n",
    "\n",
    "def print_status_bar(iteration, total, loss, metrics=None, size=30):\n",
    "    metrics = \" - \".join([\"Loss: {:.4f}\".format(loss)])\n",
    "    end = \"\" if iteration < total else \"\\n\"\n",
    "    print(\"\\r{} - {}\".format(progress_bar(iteration, total), metrics), end=end)\n",
    "    \n",
    "def print_status_bar_epoch(iteration, total, loss, validation_loss, metrics=None, size=30):\n",
    "    metrics = \" - \".join([\"Loss: {:.4f} Validation loss: {:.4f} \".format(loss,validation_loss)])\n",
    "    end = \"\" if iteration < total else \"\\n\"\n",
    "    print(\"\\r{} - {}\".format(progress_bar(iteration, total), metrics), end=end)\n",
    "    \n",
    "#could make these functions into just one which works for both if I want. See the Geron textbook."
   ]
  },
  {
   "cell_type": "code",
   "execution_count": 24,
   "metadata": {},
   "outputs": [],
   "source": [
    "def list_average(list_of_losses):\n",
    "    return sum(list_of_losses)/len(list_of_losses)"
   ]
  },
  {
   "cell_type": "code",
   "execution_count": 25,
   "metadata": {},
   "outputs": [],
   "source": [
    "\n",
    "#for below\n",
    "def progress_bar(iteration, total, size=30):\n",
    "    running = iteration < total\n",
    "    c = \">\" if running else \"=\"\n",
    "    p = (size - 1) * iteration // total\n",
    "    fmt = \"{{:-{}d}}/{{}} [{{}}]\".format(len(str(total)))\n",
    "    params = [iteration, total, \"=\" * p + c + \".\" * (size - p - 1)]\n",
    "    return fmt.format(*params)\n",
    "\n",
    "def print_status_bar(iteration, total, loss, metrics=None, size=30):\n",
    "    metrics = \" - \".join([\"Loss for batch: {:.4f}\".format(loss)])\n",
    "    end = \"\" if iteration < total else \"\\n\"\n",
    "    print(\"\\r{} - {}\".format(progress_bar(iteration, total), metrics), end=end)\n",
    "    \n",
    "def print_status_bar_epoch(iteration, total, training_loss_for_epoch,train_recon, train_reg,\n",
    "                                   train_unlabel,val_loss,val_recon_loss,val_reg_loss, metrics=None, size=30):\n",
    "    metrics = \" - \".join(\n",
    "        [\"trainLoss: {:.4f} tRecon: {:.4f} ty_pred: {:.4f} tUnlabel: {:.4f} Val_loss: {:.4f} Val_recon: {:.4f} Val_reg: {:.4f}\".format(\n",
    "            training_loss_for_epoch,train_recon, train_reg,\n",
    "                                   train_unlabel,val_loss,val_recon_loss,val_reg_loss)]\n",
    "    )\n",
    "    end = \"\" if iteration < total else \"\\n\"\n",
    "    print(\"\\r{} - {}\".format(progress_bar(iteration, total), metrics), end=end)\n",
    "    \n",
    "#could make these functions into just one which works for both if I want. See the Geron textbook."
   ]
  },
  {
   "cell_type": "code",
   "execution_count": 29,
   "metadata": {},
   "outputs": [],
   "source": [
    "def fit_model(X_train_la, y_train_la, X_train_un,epochs,X_valid_la, y_valid_la,patience,batch_size=64):\n",
    "\n",
    "    \"\"\"\n",
    "    Fits the model. Gets the validation loss too. And includes early stopping, given by the patience.\n",
    "    \n",
    "    \"\"\"\n",
    "    #The callback still doesn't take the model back to the model which performed best.. how to implement that?\n",
    "    #maybe save the model after each epoch in a list of max size 10.\n",
    "    #if we callback is reached, look at val loss list and see index which is smallest and choose that for model restoration\n",
    "    \n",
    "    start = time.time()\n",
    "    history = []\n",
    "    \n",
    "    validation_loss = []\n",
    "    \n",
    "    batch_loss = []\n",
    "    batch_recon = []\n",
    "    batch_reg = []\n",
    "    batch_unlabel = []\n",
    "    \n",
    "    batches_per_epoch = int(np.floor((X_train_la.shape[0] + X_train_un.shape[0])/batch_size))\n",
    "\n",
    "    for epoch in range(epochs):\n",
    "            \n",
    "            print(\"Epoch {}/{}\".format(epoch,epochs))\n",
    "            \n",
    "            for i in range(batches_per_epoch):\n",
    "\n",
    "                batch_x_la, batch_y_la, batch_x_un = create_batch(X_train_la,y_train_la,X_train_un,batch_size)\n",
    "\n",
    "                unlabel_loss = unlabel_vae.train_on_batch([batch_x_un],\n",
    "                                                 [batch_x_un])\n",
    "\n",
    "                label_loss_recon = label_vae.train_on_batch([batch_x_la,batch_y_la],\n",
    "                                                [batch_x_la,batch_y_la])[1] \n",
    "                \n",
    "                label_loss_y = label_vae.train_on_batch([batch_x_la,batch_y_la],\n",
    "                                                [batch_x_la,batch_y_la])[2] \n",
    "                \n",
    "                loss= unlabel_loss+label_loss_recon+label_loss_y\n",
    "                \n",
    "                batch_recon.append(label_loss_recon)\n",
    "                batch_reg.append(label_loss_y)\n",
    "                batch_unlabel.append(unlabel_loss)\n",
    "                \n",
    "                batch_loss.append(loss)\n",
    "                average_batch_loss = list_average(batch_loss)\n",
    "                print_status_bar(i*batch_size,X_train_la.shape[0] + X_train_un.shape[0],average_batch_loss)\n",
    "                \n",
    "            training_loss_for_epoch = list_average(batch_loss)\n",
    "            train_recon = list_average(batch_recon)\n",
    "            train_reg = list_average(batch_reg)\n",
    "            train_unlabel = list_average(batch_unlabel)\n",
    "\n",
    "            batch_loss = []\n",
    "            batch_recon = []\n",
    "            batch_reg = []\n",
    "            batch_unlabel = []\n",
    "                \n",
    "            history.append(training_loss_for_epoch)\n",
    "            \n",
    "            val_loss = label_vae.evaluate([X_valid_la,y_valid_la],[X_valid_la,y_valid_la],verbose=0)[0];\n",
    "            \n",
    "            val_recon_loss = label_vae.evaluate([X_valid_la,y_valid_la],[X_valid_la,y_valid_la],verbose=0)[1];\n",
    "\n",
    "            val_reg_loss = label_vae.evaluate([X_valid_la,y_valid_la],[X_valid_la,y_valid_la],verbose=0)[2];\n",
    "            \n",
    "            validation_loss.append(val_loss)\n",
    "                \n",
    "            print_status_bar_epoch(X_train_la.shape[0] + X_train_un.shape[0]\n",
    "                             ,(X_train_la.shape[0] + X_train_un.shape[0]),training_loss_for_epoch,train_recon, train_reg,\n",
    "                                   train_unlabel,val_loss,val_recon_loss,val_reg_loss)\n",
    "            \n",
    "            #callback for early stopping\n",
    "            if epoch > patience - 1:\n",
    "                \n",
    "                latest_val_loss = validation_loss[-patience:]\n",
    "                if all(i<=val_loss for i in latest_val_loss) is True:\n",
    "                    break\n",
    "            \n",
    "            \n",
    "                \n",
    "    done = time.time()\n",
    "    elapsed = done-start\n",
    "    print(\"Elapsed/s: \",elapsed)\n",
    "    print(\"Final training loss: \",training_loss_for_epoch)\n",
    "    \n",
    "    return history"
   ]
  },
  {
   "cell_type": "code",
   "execution_count": 70,
   "metadata": {},
   "outputs": [
    {
     "name": "stdout",
     "output_type": "stream",
     "text": [
      "Epoch 0/200\n",
      "55000/55000 [==============================] - trainLoss: 84.6722 tRecon: 34.1434 ty_pred: 16.1208 tUnlabel: 34.4080 Val_loss: 63.9988 Val_recon: 34.1533 Val_reg: 29.7790\n",
      "Epoch 1/200\n",
      "55000/55000 [==============================] - trainLoss: 83.1775 tRecon: 34.1174 ty_pred: 14.6561 tUnlabel: 34.4040 Val_loss: 64.9535 Val_recon: 34.1512 Val_reg: 30.7648\n",
      "Epoch 2/200\n",
      "55000/55000 [==============================] - trainLoss: 81.1029 tRecon: 34.1351 ty_pred: 12.5624 tUnlabel: 34.4054 Val_loss: 69.5679 Val_recon: 34.1549 Val_reg: 35.3887\n",
      "Epoch 3/200\n",
      "55000/55000 [==============================] - trainLoss: 82.4765 tRecon: 34.1218 ty_pred: 13.9584 tUnlabel: 34.3963 Val_loss: 65.5479 Val_recon: 34.1547 Val_reg: 31.2727\n",
      "Epoch 4/200\n",
      "55000/55000 [==============================] - trainLoss: 83.5292 tRecon: 34.1342 ty_pred: 15.0008 tUnlabel: 34.3943 Val_loss: 71.9349 Val_recon: 34.1515 Val_reg: 37.6621\n",
      "Epoch 5/200\n",
      "55000/55000 [==============================] - trainLoss: 83.2490 tRecon: 34.1230 ty_pred: 14.7317 tUnlabel: 34.3943 Val_loss: 64.5992 Val_recon: 34.1581 Val_reg: 30.3874\n",
      "Epoch 6/200\n",
      "55000/55000 [==============================] - trainLoss: 83.4054 tRecon: 34.1321 ty_pred: 14.8879 tUnlabel: 34.3854 Val_loss: 68.7317 Val_recon: 34.1532 Val_reg: 34.4700\n",
      "Epoch 7/200\n",
      "55000/55000 [==============================] - trainLoss: 81.5499 tRecon: 34.1247 ty_pred: 13.0419 tUnlabel: 34.3833 Val_loss: 70.1043 Val_recon: 34.1554 Val_reg: 35.8285\n",
      "Epoch 8/200\n",
      "55000/55000 [==============================] - trainLoss: 83.9251 tRecon: 34.1360 ty_pred: 15.4006 tUnlabel: 34.3885 Val_loss: 64.1956 Val_recon: 34.1569 Val_reg: 29.9463\n",
      "Epoch 9/200\n",
      "55000/55000 [==============================] - trainLoss: 82.3744 tRecon: 34.1335 ty_pred: 13.8608 tUnlabel: 34.3801 Val_loss: 71.1630 Val_recon: 34.1581 Val_reg: 36.8734\n",
      "Epoch 10/200\n",
      "55000/55000 [==============================] - trainLoss: 83.4453 tRecon: 34.1367 ty_pred: 14.9244 tUnlabel: 34.3843 Val_loss: 72.2754 Val_recon: 34.1511 Val_reg: 37.9986\n",
      "Elapsed/s:  169.7367775440216\n",
      "Final training loss:  83.4453200583408\n"
     ]
    }
   ],
   "source": [
    "history = fit_model(X_train_la_encoded_scaled, y_train_la, X_train_un_encoded_scaled,200,X_valid_encoded_scaled,y_valid,patience=10,batch_size=64)"
   ]
  },
  {
   "cell_type": "markdown",
   "metadata": {},
   "source": [
    "# Test #"
   ]
  },
  {
   "cell_type": "code",
   "execution_count": 19,
   "metadata": {},
   "outputs": [
    {
     "data": {
      "text/plain": [
       "(10000, 300)"
      ]
     },
     "execution_count": 19,
     "metadata": {},
     "output_type": "execute_result"
    }
   ],
   "source": [
    "X_test_encoded.shape"
   ]
  },
  {
   "cell_type": "code",
   "execution_count": 20,
   "metadata": {},
   "outputs": [],
   "source": [
    "y_test = y_test.reshape(-1,1)\n",
    "y_test = encoder.transform(y_test)\n",
    "y_test = y_test.toarray()"
   ]
  },
  {
   "cell_type": "code",
   "execution_count": 71,
   "metadata": {},
   "outputs": [],
   "source": [
    "y_prediction = classifier.predict(X_valid_encoded_scaled)"
   ]
  },
  {
   "cell_type": "code",
   "execution_count": 72,
   "metadata": {},
   "outputs": [],
   "source": [
    "from sklearn.metrics import log_loss\n",
    "\n",
    "xent_loss = log_loss(y_valid,y_prediction)"
   ]
  },
  {
   "cell_type": "code",
   "execution_count": 73,
   "metadata": {},
   "outputs": [
    {
     "data": {
      "text/plain": [
       "0.38124066108700844"
      ]
     },
     "execution_count": 73,
     "metadata": {},
     "output_type": "execute_result"
    }
   ],
   "source": [
    "xent_loss"
   ]
  },
  {
   "cell_type": "code",
   "execution_count": 74,
   "metadata": {},
   "outputs": [],
   "source": [
    "y_pred_rounded = np.round(y_prediction,0)"
   ]
  },
  {
   "cell_type": "code",
   "execution_count": 75,
   "metadata": {},
   "outputs": [
    {
     "data": {
      "text/plain": [
       "0.8718"
      ]
     },
     "execution_count": 75,
     "metadata": {},
     "output_type": "execute_result"
    }
   ],
   "source": [
    "from sklearn.metrics import accuracy_score as accuracy\n",
    "\n",
    "accuracy_score = accuracy(y_valid,y_pred_rounded)\n",
    "\n",
    "accuracy_score"
   ]
  },
  {
   "cell_type": "code",
   "execution_count": 76,
   "metadata": {},
   "outputs": [],
   "source": [
    "y_pred_rounded_train = np.round(classifier.predict(X_train_la_encoded_scaled),0)"
   ]
  },
  {
   "cell_type": "code",
   "execution_count": 77,
   "metadata": {},
   "outputs": [],
   "source": [
    "xent_loss = log_loss(y_train_la,y_pred_rounded_train)"
   ]
  },
  {
   "cell_type": "code",
   "execution_count": 78,
   "metadata": {},
   "outputs": [
    {
     "data": {
      "text/plain": [
       "2.2841644129753114"
      ]
     },
     "execution_count": 78,
     "metadata": {},
     "output_type": "execute_result"
    }
   ],
   "source": [
    "xent_loss"
   ]
  },
  {
   "cell_type": "code",
   "execution_count": 79,
   "metadata": {},
   "outputs": [
    {
     "data": {
      "text/plain": [
       "0.918"
      ]
     },
     "execution_count": 79,
     "metadata": {},
     "output_type": "execute_result"
    }
   ],
   "source": [
    "accuracy(y_train_la,y_pred_rounded_train)"
   ]
  },
  {
   "cell_type": "markdown",
   "metadata": {},
   "source": [
    "Not as good as M1 nor M2 yet. Maybe with regularisation + longer training we'd get there."
   ]
  },
  {
   "cell_type": "markdown",
   "metadata": {},
   "source": [
    "Maybe the models need to be trained jointly, as in having a probabilistic model overall, unlike what is done here, where M1 is used as a feature extractor? Can try this out..."
   ]
  },
  {
   "cell_type": "code",
   "execution_count": 59,
   "metadata": {},
   "outputs": [],
   "source": [
    "classifier.save(\"m1+m2_poor_classifier.h5\") "
   ]
  },
  {
   "cell_type": "code",
   "execution_count": null,
   "metadata": {},
   "outputs": [],
   "source": []
  }
 ],
 "metadata": {
  "kernelspec": {
   "display_name": "Python 3",
   "language": "python",
   "name": "python3"
  },
  "language_info": {
   "codemirror_mode": {
    "name": "ipython",
    "version": 3
   },
   "file_extension": ".py",
   "mimetype": "text/x-python",
   "name": "python",
   "nbconvert_exporter": "python",
   "pygments_lexer": "ipython3",
   "version": "3.5.2"
  }
 },
 "nbformat": 4,
 "nbformat_minor": 4
}
